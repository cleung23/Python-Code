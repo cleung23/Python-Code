{
 "cells": [
  {
   "cell_type": "markdown",
   "metadata": {},
   "source": [
    "# Unsupervised Learning: Marketing Analytics - Customer Segmentation\n",
    "\n",
    "## Skills: Kmeans Clustering, Mining Time Series Transaction Data, RFM Analysis "
   ]
  },
  {
   "cell_type": "markdown",
   "metadata": {},
   "source": [
    "Market segmentation allows companies to get a better understanding of thier customer characteristics and therefore can tailor marketing campaigns to each customer segment.  One of the most popular segmentation method is RFM analysis.  RFM stands for Recency, Frequency, and Monetary value. These RFM metrics are important indicators of a customer’s behavior because frequency and monetary value affects a customer’s lifetime value, and recency affects retention, a measure of engagement.\n",
    "\n",
    "This project applies RFM analysis in mining time series transaction data from a retail bank for the purpose of customer segmentation.  12 months of transaction record is extracted for segmentaion (May 2018 to April 2019).  Each record is aggregated to the monthly level.  It also has a customer profile dataset which contains static features like age, open date etc."
   ]
  },
  {
   "cell_type": "code",
   "execution_count": 1,
   "metadata": {},
   "outputs": [],
   "source": [
    "#Import libraries necessary for this project\n",
    "import numpy as np\n",
    "import pandas as pd\n",
    "from numpy import unique\n",
    "from pandas import read_csv\n",
    "import datetime as dt\n",
    "import matplotlib.pyplot as plt\n",
    "import seaborn as sns\n",
    "\n",
    "# Graphic display for notebooks\n",
    "%matplotlib inline"
   ]
  },
  {
   "cell_type": "code",
   "execution_count": 10,
   "metadata": {},
   "outputs": [
    {
     "data": {
      "text/plain": [
       "(34812, 11)"
      ]
     },
     "execution_count": 10,
     "metadata": {},
     "output_type": "execute_result"
    }
   ],
   "source": [
    "#Loading Customer Profile Data\n",
    "Profile = read_csv('/Users/hleung/PycharmProjects/S6a.csv', header=0)\n",
    "Profile.shape"
   ]
  },
  {
   "cell_type": "markdown",
   "metadata": {},
   "source": [
    "The dataset has a sample of 34812 customers and 11 features."
   ]
  },
  {
   "cell_type": "markdown",
   "metadata": {},
   "source": [
    "## Profile Data"
   ]
  },
  {
   "cell_type": "code",
   "execution_count": 11,
   "metadata": {},
   "outputs": [
    {
     "data": {
      "text/html": [
       "<div>\n",
       "<style scoped>\n",
       "    .dataframe tbody tr th:only-of-type {\n",
       "        vertical-align: middle;\n",
       "    }\n",
       "\n",
       "    .dataframe tbody tr th {\n",
       "        vertical-align: top;\n",
       "    }\n",
       "\n",
       "    .dataframe thead th {\n",
       "        text-align: right;\n",
       "    }\n",
       "</style>\n",
       "<table border=\"1\" class=\"dataframe\">\n",
       "  <thead>\n",
       "    <tr style=\"text-align: right;\">\n",
       "      <th></th>\n",
       "      <th>Memberid</th>\n",
       "      <th>Status</th>\n",
       "      <th>OpenDate</th>\n",
       "      <th>CloseDate</th>\n",
       "      <th>Age</th>\n",
       "      <th>NumberofSavingsProducts</th>\n",
       "      <th>CountofLoans</th>\n",
       "      <th>TenureMonth</th>\n",
       "      <th>DBINDICATOR</th>\n",
       "      <th>CCINDICATOR</th>\n",
       "      <th>INDIRECT</th>\n",
       "    </tr>\n",
       "  </thead>\n",
       "  <tbody>\n",
       "    <tr>\n",
       "      <th>0</th>\n",
       "      <td>4444R4MGG</td>\n",
       "      <td>Open</td>\n",
       "      <td>2017-08-18</td>\n",
       "      <td>NaN</td>\n",
       "      <td>80.0</td>\n",
       "      <td>1.0</td>\n",
       "      <td>1</td>\n",
       "      <td>23</td>\n",
       "      <td>0</td>\n",
       "      <td>0</td>\n",
       "      <td>1</td>\n",
       "    </tr>\n",
       "    <tr>\n",
       "      <th>1</th>\n",
       "      <td>444F4RR4K</td>\n",
       "      <td>Open</td>\n",
       "      <td>2017-11-17</td>\n",
       "      <td>NaN</td>\n",
       "      <td>31.0</td>\n",
       "      <td>1.0</td>\n",
       "      <td>1</td>\n",
       "      <td>20</td>\n",
       "      <td>0</td>\n",
       "      <td>0</td>\n",
       "      <td>0</td>\n",
       "    </tr>\n",
       "    <tr>\n",
       "      <th>2</th>\n",
       "      <td>444G55TMG</td>\n",
       "      <td>Open</td>\n",
       "      <td>2016-12-08</td>\n",
       "      <td>NaN</td>\n",
       "      <td>20.0</td>\n",
       "      <td>2.0</td>\n",
       "      <td>0</td>\n",
       "      <td>31</td>\n",
       "      <td>1</td>\n",
       "      <td>0</td>\n",
       "      <td>0</td>\n",
       "    </tr>\n",
       "    <tr>\n",
       "      <th>3</th>\n",
       "      <td>444RMTMGF</td>\n",
       "      <td>Open</td>\n",
       "      <td>2018-02-15</td>\n",
       "      <td>NaN</td>\n",
       "      <td>31.0</td>\n",
       "      <td>1.0</td>\n",
       "      <td>1</td>\n",
       "      <td>17</td>\n",
       "      <td>0</td>\n",
       "      <td>0</td>\n",
       "      <td>1</td>\n",
       "    </tr>\n",
       "    <tr>\n",
       "      <th>4</th>\n",
       "      <td>444ZZ88RM</td>\n",
       "      <td>Open</td>\n",
       "      <td>2018-10-19</td>\n",
       "      <td>NaN</td>\n",
       "      <td>62.0</td>\n",
       "      <td>2.0</td>\n",
       "      <td>0</td>\n",
       "      <td>9</td>\n",
       "      <td>1</td>\n",
       "      <td>0</td>\n",
       "      <td>0</td>\n",
       "    </tr>\n",
       "  </tbody>\n",
       "</table>\n",
       "</div>"
      ],
      "text/plain": [
       "    Memberid Status    OpenDate CloseDate   Age  NumberofSavingsProducts  \\\n",
       "0  4444R4MGG   Open  2017-08-18       NaN  80.0                      1.0   \n",
       "1  444F4RR4K   Open  2017-11-17       NaN  31.0                      1.0   \n",
       "2  444G55TMG   Open  2016-12-08       NaN  20.0                      2.0   \n",
       "3  444RMTMGF   Open  2018-02-15       NaN  31.0                      1.0   \n",
       "4  444ZZ88RM   Open  2018-10-19       NaN  62.0                      2.0   \n",
       "\n",
       "   CountofLoans  TenureMonth  DBINDICATOR  CCINDICATOR  INDIRECT  \n",
       "0             1           23            0            0         1  \n",
       "1             1           20            0            0         0  \n",
       "2             0           31            1            0         0  \n",
       "3             1           17            0            0         1  \n",
       "4             0            9            1            0         0  "
      ]
     },
     "execution_count": 11,
     "metadata": {},
     "output_type": "execute_result"
    }
   ],
   "source": [
    "Profile.head(5)"
   ]
  },
  {
   "cell_type": "code",
   "execution_count": 12,
   "metadata": {},
   "outputs": [],
   "source": [
    "# Feature Description:\n",
    "# Memberid: A unique customer id\n",
    "# Status: Open / Closed depends on whether th customer has closed the account or not\n",
    "# OpenDate, Close Date: The time when the customer open or close the account\n",
    "# Age: Customer age\n",
    "# NumberofSavingsProducts: No. of savings products the customer is having in the bank\n",
    "# CountofLoans: No. of Loans the customer is having in the bank\n",
    "# TenureMonth: The length of time in months the customer is with the bank\n",
    "# DBINDICATOR: Whether the customer has a debit card with the bank (1 or 0)\n",
    "# CCINDICATOR: Whether the customer has a credit card with the bank (1 or 0)\n",
    "# INDIRECT: Whether the customer has an indirect loan with the bank (1 or 0)"
   ]
  },
  {
   "cell_type": "code",
   "execution_count": 17,
   "metadata": {},
   "outputs": [
    {
     "data": {
      "text/html": [
       "<div>\n",
       "<style scoped>\n",
       "    .dataframe tbody tr th:only-of-type {\n",
       "        vertical-align: middle;\n",
       "    }\n",
       "\n",
       "    .dataframe tbody tr th {\n",
       "        vertical-align: top;\n",
       "    }\n",
       "\n",
       "    .dataframe thead th {\n",
       "        text-align: right;\n",
       "    }\n",
       "</style>\n",
       "<table border=\"1\" class=\"dataframe\">\n",
       "  <thead>\n",
       "    <tr style=\"text-align: right;\">\n",
       "      <th></th>\n",
       "      <th>Age</th>\n",
       "      <th>NumberofSavingsProducts</th>\n",
       "      <th>CountofLoans</th>\n",
       "      <th>TenureMonth</th>\n",
       "      <th>DBINDICATOR</th>\n",
       "      <th>CCINDICATOR</th>\n",
       "      <th>INDIRECT</th>\n",
       "    </tr>\n",
       "  </thead>\n",
       "  <tbody>\n",
       "    <tr>\n",
       "      <th>count</th>\n",
       "      <td>34738.000000</td>\n",
       "      <td>34810.000000</td>\n",
       "      <td>34812.000000</td>\n",
       "      <td>34812.000000</td>\n",
       "      <td>34812.000000</td>\n",
       "      <td>34812.000000</td>\n",
       "      <td>34812.000000</td>\n",
       "    </tr>\n",
       "    <tr>\n",
       "      <th>mean</th>\n",
       "      <td>37.704186</td>\n",
       "      <td>1.713444</td>\n",
       "      <td>0.407963</td>\n",
       "      <td>19.127628</td>\n",
       "      <td>0.585516</td>\n",
       "      <td>0.104102</td>\n",
       "      <td>0.301218</td>\n",
       "    </tr>\n",
       "    <tr>\n",
       "      <th>std</th>\n",
       "      <td>19.283091</td>\n",
       "      <td>0.732845</td>\n",
       "      <td>0.547219</td>\n",
       "      <td>8.232303</td>\n",
       "      <td>0.492640</td>\n",
       "      <td>0.305397</td>\n",
       "      <td>0.458794</td>\n",
       "    </tr>\n",
       "    <tr>\n",
       "      <th>min</th>\n",
       "      <td>0.000000</td>\n",
       "      <td>1.000000</td>\n",
       "      <td>0.000000</td>\n",
       "      <td>7.000000</td>\n",
       "      <td>0.000000</td>\n",
       "      <td>0.000000</td>\n",
       "      <td>0.000000</td>\n",
       "    </tr>\n",
       "    <tr>\n",
       "      <th>25%</th>\n",
       "      <td>22.000000</td>\n",
       "      <td>1.000000</td>\n",
       "      <td>0.000000</td>\n",
       "      <td>12.000000</td>\n",
       "      <td>0.000000</td>\n",
       "      <td>0.000000</td>\n",
       "      <td>0.000000</td>\n",
       "    </tr>\n",
       "    <tr>\n",
       "      <th>50%</th>\n",
       "      <td>36.000000</td>\n",
       "      <td>2.000000</td>\n",
       "      <td>0.000000</td>\n",
       "      <td>18.000000</td>\n",
       "      <td>1.000000</td>\n",
       "      <td>0.000000</td>\n",
       "      <td>0.000000</td>\n",
       "    </tr>\n",
       "    <tr>\n",
       "      <th>75%</th>\n",
       "      <td>52.000000</td>\n",
       "      <td>2.000000</td>\n",
       "      <td>1.000000</td>\n",
       "      <td>26.000000</td>\n",
       "      <td>1.000000</td>\n",
       "      <td>0.000000</td>\n",
       "      <td>1.000000</td>\n",
       "    </tr>\n",
       "    <tr>\n",
       "      <th>max</th>\n",
       "      <td>113.000000</td>\n",
       "      <td>10.000000</td>\n",
       "      <td>4.000000</td>\n",
       "      <td>35.000000</td>\n",
       "      <td>1.000000</td>\n",
       "      <td>1.000000</td>\n",
       "      <td>1.000000</td>\n",
       "    </tr>\n",
       "  </tbody>\n",
       "</table>\n",
       "</div>"
      ],
      "text/plain": [
       "                Age  NumberofSavingsProducts  CountofLoans   TenureMonth  \\\n",
       "count  34738.000000             34810.000000  34812.000000  34812.000000   \n",
       "mean      37.704186                 1.713444      0.407963     19.127628   \n",
       "std       19.283091                 0.732845      0.547219      8.232303   \n",
       "min        0.000000                 1.000000      0.000000      7.000000   \n",
       "25%       22.000000                 1.000000      0.000000     12.000000   \n",
       "50%       36.000000                 2.000000      0.000000     18.000000   \n",
       "75%       52.000000                 2.000000      1.000000     26.000000   \n",
       "max      113.000000                10.000000      4.000000     35.000000   \n",
       "\n",
       "        DBINDICATOR   CCINDICATOR      INDIRECT  \n",
       "count  34812.000000  34812.000000  34812.000000  \n",
       "mean       0.585516      0.104102      0.301218  \n",
       "std        0.492640      0.305397      0.458794  \n",
       "min        0.000000      0.000000      0.000000  \n",
       "25%        0.000000      0.000000      0.000000  \n",
       "50%        1.000000      0.000000      0.000000  \n",
       "75%        1.000000      0.000000      1.000000  \n",
       "max        1.000000      1.000000      1.000000  "
      ]
     },
     "execution_count": 17,
     "metadata": {},
     "output_type": "execute_result"
    }
   ],
   "source": [
    "Profile.describe()"
   ]
  },
  {
   "cell_type": "markdown",
   "metadata": {},
   "source": [
    "Most customers are below the age of 50.  They have more savings products than loans.  They are with the bank for more than a year and a half.  Half of them have debit cards but only 10% has credt cards.  30% of them have indrect loans."
   ]
  },
  {
   "cell_type": "markdown",
   "metadata": {},
   "source": [
    "# Data Exploration"
   ]
  },
  {
   "cell_type": "code",
   "execution_count": 21,
   "metadata": {},
   "outputs": [
    {
     "data": {
      "text/plain": [
       "(-0.05500000000000001,\n",
       " 0.05500000000000001,\n",
       " -0.05500000000000001,\n",
       " 0.05500000000000001)"
      ]
     },
     "execution_count": 21,
     "metadata": {},
     "output_type": "execute_result"
    },
    {
     "data": {
      "image/png": "[encoded data removed]",
      "text/plain": [
       "<Figure size 432x288 with 1 Axes>"
      ]
     },
     "metadata": {},
     "output_type": "display_data"
    }
   ],
   "source": [
    "#Status Pie Chart\n",
    "def label_function(val):\n",
    "    return f'{val / 100 * len(Profile):.0f}\\n{val:.0f}%'\n",
    "\n",
    "Profile.groupby('Status').size().plot(kind='pie', autopct=label_function, startangle=90,\n",
    "                                 colors=['violet', 'lime'])\n",
    "labels = 'Active', 'Closed'\n",
    "ax1.set_ylabel('Status', size=22)\n",
    "plt.ylabel(\"\")\n",
    "plt.title('Status Distribution')\n",
    "ax1.axis('equal')"
   ]
  },
  {
   "cell_type": "markdown",
   "metadata": {},
   "source": [
    "The above pie chart shows the majority of customers choose to stay with the bank, there are only 4636 churn cases (13%) over the 3 year period."
   ]
  },
  {
   "cell_type": "code",
   "execution_count": 23,
   "metadata": {},
   "outputs": [
    {
     "data": {
      "text/plain": [
       "Text(0, 0.5, 'No of Customers')"
      ]
     },
     "execution_count": 23,
     "metadata": {},
     "output_type": "execute_result"
    },
    {
     "data": {
      "image/png": "[encoded data removed]",
      "text/plain": [
       "<Figure size 432x288 with 1 Axes>"
      ]
     },
     "metadata": {
      "needs_background": "light"
     },
     "output_type": "display_data"
    }
   ],
   "source": [
    "data = Profile['TenureMonth']\n",
    "hx, hy, _ = plt.hist(data, bins=50, color=\"royalblue\")\n",
    "plt.ylim(0.0,max(hx)+0.05)\n",
    "plt.title('Histogram of Tenure Month')\n",
    "plt.xlabel(\"T enure Month\")\n",
    "plt.ylabel(\"No of Customers\")"
   ]
  },
  {
   "cell_type": "markdown",
   "metadata": {},
   "source": [
    "The above histogram shows there are more new customers than old customers, this is due to the bank's recruiting effort or customer churn."
   ]
  },
  {
   "cell_type": "markdown",
   "metadata": {},
   "source": [
    "## Transaction Data"
   ]
  },
  {
   "cell_type": "code",
   "execution_count": 11,
   "metadata": {},
   "outputs": [
    {
     "data": {
      "text/plain": [
       "(671562, 16)"
      ]
     },
     "execution_count": 11,
     "metadata": {},
     "output_type": "execute_result"
    }
   ],
   "source": [
    "#Loading Transaction Data\n",
    "\n",
    "Tran = read_csv('/Users/hleung/PycharmProjects/S7p.csv', header=0)\n",
    "Tran.shape"
   ]
  },
  {
   "cell_type": "code",
   "execution_count": 18,
   "metadata": {},
   "outputs": [
    {
     "data": {
      "text/html": [
       "<div>\n",
       "<style scoped>\n",
       "    .dataframe tbody tr th:only-of-type {\n",
       "        vertical-align: middle;\n",
       "    }\n",
       "\n",
       "    .dataframe tbody tr th {\n",
       "        vertical-align: top;\n",
       "    }\n",
       "\n",
       "    .dataframe thead th {\n",
       "        text-align: right;\n",
       "    }\n",
       "</style>\n",
       "<table border=\"1\" class=\"dataframe\">\n",
       "  <thead>\n",
       "    <tr style=\"text-align: right;\">\n",
       "      <th></th>\n",
       "      <th>Memberid</th>\n",
       "      <th>Date</th>\n",
       "      <th>Status</th>\n",
       "      <th>Age</th>\n",
       "      <th>TenureMonth</th>\n",
       "      <th>NumberofDirectDeposits</th>\n",
       "      <th>SumofDirectDeposits</th>\n",
       "      <th>NumberofBillPayTransactions</th>\n",
       "      <th>NumberofDebitCardTransactions</th>\n",
       "      <th>NumberofTransactionsConductedinBranch</th>\n",
       "      <th>FEESCHARGED</th>\n",
       "      <th>SUMofFEESCHARGED</th>\n",
       "      <th>OnlineTran</th>\n",
       "      <th>NumberofPayments</th>\n",
       "      <th>SumofPaymentAmount</th>\n",
       "      <th>AllTran</th>\n",
       "    </tr>\n",
       "  </thead>\n",
       "  <tbody>\n",
       "    <tr>\n",
       "      <th>0</th>\n",
       "      <td>584488448</td>\n",
       "      <td>2018-01-31</td>\n",
       "      <td>0</td>\n",
       "      <td>67.0</td>\n",
       "      <td>1</td>\n",
       "      <td>0.0</td>\n",
       "      <td>0.0</td>\n",
       "      <td>0.0</td>\n",
       "      <td>0.0</td>\n",
       "      <td>0.0</td>\n",
       "      <td>0.0</td>\n",
       "      <td>0.0</td>\n",
       "      <td>NaN</td>\n",
       "      <td>NaN</td>\n",
       "      <td>NaN</td>\n",
       "      <td>0.0</td>\n",
       "    </tr>\n",
       "    <tr>\n",
       "      <th>1</th>\n",
       "      <td>584488448</td>\n",
       "      <td>2018-02-28</td>\n",
       "      <td>0</td>\n",
       "      <td>67.0</td>\n",
       "      <td>2</td>\n",
       "      <td>0.0</td>\n",
       "      <td>0.0</td>\n",
       "      <td>0.0</td>\n",
       "      <td>0.0</td>\n",
       "      <td>1.0</td>\n",
       "      <td>0.0</td>\n",
       "      <td>0.0</td>\n",
       "      <td>NaN</td>\n",
       "      <td>NaN</td>\n",
       "      <td>NaN</td>\n",
       "      <td>1.0</td>\n",
       "    </tr>\n",
       "    <tr>\n",
       "      <th>2</th>\n",
       "      <td>584488448</td>\n",
       "      <td>2018-03-31</td>\n",
       "      <td>0</td>\n",
       "      <td>67.0</td>\n",
       "      <td>3</td>\n",
       "      <td>0.0</td>\n",
       "      <td>0.0</td>\n",
       "      <td>0.0</td>\n",
       "      <td>0.0</td>\n",
       "      <td>0.0</td>\n",
       "      <td>0.0</td>\n",
       "      <td>0.0</td>\n",
       "      <td>NaN</td>\n",
       "      <td>NaN</td>\n",
       "      <td>NaN</td>\n",
       "      <td>0.0</td>\n",
       "    </tr>\n",
       "    <tr>\n",
       "      <th>3</th>\n",
       "      <td>584488448</td>\n",
       "      <td>2018-04-30</td>\n",
       "      <td>0</td>\n",
       "      <td>67.0</td>\n",
       "      <td>4</td>\n",
       "      <td>0.0</td>\n",
       "      <td>0.0</td>\n",
       "      <td>0.0</td>\n",
       "      <td>0.0</td>\n",
       "      <td>2.0</td>\n",
       "      <td>0.0</td>\n",
       "      <td>0.0</td>\n",
       "      <td>NaN</td>\n",
       "      <td>NaN</td>\n",
       "      <td>NaN</td>\n",
       "      <td>2.0</td>\n",
       "    </tr>\n",
       "    <tr>\n",
       "      <th>4</th>\n",
       "      <td>584488448</td>\n",
       "      <td>2018-05-31</td>\n",
       "      <td>0</td>\n",
       "      <td>67.0</td>\n",
       "      <td>5</td>\n",
       "      <td>0.0</td>\n",
       "      <td>0.0</td>\n",
       "      <td>0.0</td>\n",
       "      <td>0.0</td>\n",
       "      <td>0.0</td>\n",
       "      <td>0.0</td>\n",
       "      <td>0.0</td>\n",
       "      <td>NaN</td>\n",
       "      <td>NaN</td>\n",
       "      <td>NaN</td>\n",
       "      <td>0.0</td>\n",
       "    </tr>\n",
       "  </tbody>\n",
       "</table>\n",
       "</div>"
      ],
      "text/plain": [
       "    Memberid        Date  Status   Age  TenureMonth  NumberofDirectDeposits  \\\n",
       "0  584488448  2018-01-31       0  67.0            1                     0.0   \n",
       "1  584488448  2018-02-28       0  67.0            2                     0.0   \n",
       "2  584488448  2018-03-31       0  67.0            3                     0.0   \n",
       "3  584488448  2018-04-30       0  67.0            4                     0.0   \n",
       "4  584488448  2018-05-31       0  67.0            5                     0.0   \n",
       "\n",
       "   SumofDirectDeposits  NumberofBillPayTransactions  \\\n",
       "0                  0.0                          0.0   \n",
       "1                  0.0                          0.0   \n",
       "2                  0.0                          0.0   \n",
       "3                  0.0                          0.0   \n",
       "4                  0.0                          0.0   \n",
       "\n",
       "   NumberofDebitCardTransactions  NumberofTransactionsConductedinBranch  \\\n",
       "0                            0.0                                    0.0   \n",
       "1                            0.0                                    1.0   \n",
       "2                            0.0                                    0.0   \n",
       "3                            0.0                                    2.0   \n",
       "4                            0.0                                    0.0   \n",
       "\n",
       "   FEESCHARGED  SUMofFEESCHARGED  OnlineTran  NumberofPayments  \\\n",
       "0          0.0               0.0         NaN               NaN   \n",
       "1          0.0               0.0         NaN               NaN   \n",
       "2          0.0               0.0         NaN               NaN   \n",
       "3          0.0               0.0         NaN               NaN   \n",
       "4          0.0               0.0         NaN               NaN   \n",
       "\n",
       "   SumofPaymentAmount  AllTran  \n",
       "0                 NaN      0.0  \n",
       "1                 NaN      1.0  \n",
       "2                 NaN      0.0  \n",
       "3                 NaN      2.0  \n",
       "4                 NaN      0.0  "
      ]
     },
     "execution_count": 18,
     "metadata": {},
     "output_type": "execute_result"
    }
   ],
   "source": [
    "Tran.head(5)"
   ]
  },
  {
   "cell_type": "markdown",
   "metadata": {},
   "source": [
    "This transaction dataset contains all monthly transaction records.  The number of rows each customer has depnds on the tenure month.  The first row of each customer is the start date and the last row is the close date (if the customer churns) or the cutoff date when the dataset was created (if the account is open)."
   ]
  },
  {
   "cell_type": "code",
   "execution_count": 19,
   "metadata": {},
   "outputs": [],
   "source": [
    "#Feature Description (selected)\n",
    "#Status: 0-active, 1-the month before churn, 2-churn\n",
    "#FEESCHARGED - No. of times service fee is charged\n",
    "#Online Tran - No. of online transactions\n",
    "#NumberofPayments - No. of loan payments\n",
    "#SumofPaymentAmount - Sum of loan payments\n",
    "#AllTran - Total no. of transactions in that month"
   ]
  },
  {
   "cell_type": "code",
   "execution_count": 23,
   "metadata": {},
   "outputs": [
    {
     "data": {
      "text/plain": [
       "(28768, 11)"
      ]
     },
     "execution_count": 23,
     "metadata": {},
     "output_type": "execute_result"
    }
   ],
   "source": [
    "#Select long-term customers (TenureMonth >= 6) for clustering\n",
    "cutoff1 = dt.datetime(2018, 11, 1) #6 months before last date of time frame.\n",
    "cutoff2 = dt.datetime(2019, 5, 1) #last date of time frame\n",
    "Profile['OpenDate'] = pd.to_datetime(Profile['OpenDate'])\n",
    "Profile['CloseDate'] = pd.to_datetime(Profile['CloseDate'])\n",
    "\n",
    "Open = Profile[(Profile['OpenDate'] <= cutoff1) & (Profile['Status'] == 'Open')] #Extract active customers\n",
    "#Extract churn customers who close their accounts during the time frame\n",
    "Close = Profile[(Profile['OpenDate'] <= cutoff1) & (Profile['CloseDate'] >= cutoff2)] \n",
    "Profile6 = pd.concat([Open, Close], ignore_index=True)\n",
    "Profile6 = Profile6.sort_values(by=['Memberid'], ascending=True)\n",
    "Profile6.shape"
   ]
  },
  {
   "cell_type": "markdown",
   "metadata": {},
   "source": [
    "There are 28768 long-term customers.  Next, their transaction records are extracted for RFM analysis."
   ]
  },
  {
   "cell_type": "code",
   "execution_count": 29,
   "metadata": {},
   "outputs": [
    {
     "data": {
      "text/plain": [
       "(597039, 16)"
      ]
     },
     "execution_count": 29,
     "metadata": {},
     "output_type": "execute_result"
    }
   ],
   "source": [
    "#Extract transaction records\n",
    "namelist = Profile6['Memberid']\n",
    "Tran6 = Tran[Tran['Memberid'].isin(namelist) == True]\n",
    "Tran6.shape"
   ]
  },
  {
   "cell_type": "markdown",
   "metadata": {},
   "source": [
    "# Feature Engineering - Creating RFM Features\n",
    "\n",
    "## Recency"
   ]
  },
  {
   "cell_type": "markdown",
   "metadata": {},
   "source": [
    "Recency gap is the time since last transaction, that is the time gap between last transaction and before target label is generated.  It indicates the freshness of customer activity."
   ]
  },
  {
   "cell_type": "code",
   "execution_count": 33,
   "metadata": {},
   "outputs": [],
   "source": [
    "Tran6 = Tran6.fillna(0) #fill missing values with 0 in all transaction records\n",
    "Tran6['Date'] = pd.to_datetime(Tran6['Date'])\n",
    "#Exclude months with no transaction and transactions after cutoff2\n",
    "Tran6a = Tran6[(Tran6['AllTran'] != 0) & (Tran6['Date'] <= cutoff2)] \n",
    "Tran6b = Tran6a.groupby(['Memberid']).tail(1) #Select the last non-zero transaction month\n",
    "Tran6b = Tran6b[['Memberid', 'Date']]\n",
    "Tran6b = Tran6b.rename({'Date':'MostRecent'}, axis=1) #The column with last transaction month is named MostRecent\n",
    "Profile6 = pd.merge(Profile6, Tran6b, on=['Memberid'], how='left') #merge to Profile6\n",
    "# There are missing rows in MostRecent because those customers have no activities since Open Date, \n",
    "# replace Nan with OpenDate\n",
    "Profile6.MostRecent = np.where(Profile6.MostRecent.isnull(), Profile6.OpenDate, Profile6.MostRecent)\n",
    "Profile6['MostRecent'] = pd.to_datetime(Profile6['MostRecent'])"
   ]
  },
  {
   "cell_type": "code",
   "execution_count": 34,
   "metadata": {},
   "outputs": [
    {
     "data": {
      "text/html": [
       "<div>\n",
       "<style scoped>\n",
       "    .dataframe tbody tr th:only-of-type {\n",
       "        vertical-align: middle;\n",
       "    }\n",
       "\n",
       "    .dataframe tbody tr th {\n",
       "        vertical-align: top;\n",
       "    }\n",
       "\n",
       "    .dataframe thead th {\n",
       "        text-align: right;\n",
       "    }\n",
       "</style>\n",
       "<table border=\"1\" class=\"dataframe\">\n",
       "  <thead>\n",
       "    <tr style=\"text-align: right;\">\n",
       "      <th></th>\n",
       "      <th>Memberid</th>\n",
       "      <th>Status</th>\n",
       "      <th>OpenDate</th>\n",
       "      <th>CloseDate</th>\n",
       "      <th>Age</th>\n",
       "      <th>NumberofSavingsProducts</th>\n",
       "      <th>CountofLoans</th>\n",
       "      <th>TenureMonth</th>\n",
       "      <th>DBINDICATOR</th>\n",
       "      <th>CCINDICATOR</th>\n",
       "      <th>INDIRECT</th>\n",
       "      <th>MostRecent</th>\n",
       "    </tr>\n",
       "  </thead>\n",
       "  <tbody>\n",
       "    <tr>\n",
       "      <th>0</th>\n",
       "      <td>4444R4MGG</td>\n",
       "      <td>Open</td>\n",
       "      <td>2017-08-18</td>\n",
       "      <td>NaT</td>\n",
       "      <td>80.0</td>\n",
       "      <td>1.0</td>\n",
       "      <td>1</td>\n",
       "      <td>23</td>\n",
       "      <td>0</td>\n",
       "      <td>0</td>\n",
       "      <td>1</td>\n",
       "      <td>2019-04-30</td>\n",
       "    </tr>\n",
       "    <tr>\n",
       "      <th>1</th>\n",
       "      <td>444F4RR4K</td>\n",
       "      <td>Open</td>\n",
       "      <td>2017-11-17</td>\n",
       "      <td>NaT</td>\n",
       "      <td>31.0</td>\n",
       "      <td>1.0</td>\n",
       "      <td>1</td>\n",
       "      <td>20</td>\n",
       "      <td>0</td>\n",
       "      <td>0</td>\n",
       "      <td>0</td>\n",
       "      <td>2019-04-30</td>\n",
       "    </tr>\n",
       "    <tr>\n",
       "      <th>2</th>\n",
       "      <td>444G55TMG</td>\n",
       "      <td>Open</td>\n",
       "      <td>2016-12-08</td>\n",
       "      <td>NaT</td>\n",
       "      <td>20.0</td>\n",
       "      <td>2.0</td>\n",
       "      <td>0</td>\n",
       "      <td>31</td>\n",
       "      <td>1</td>\n",
       "      <td>0</td>\n",
       "      <td>0</td>\n",
       "      <td>2017-07-31</td>\n",
       "    </tr>\n",
       "    <tr>\n",
       "      <th>3</th>\n",
       "      <td>444RMTMGF</td>\n",
       "      <td>Open</td>\n",
       "      <td>2018-02-15</td>\n",
       "      <td>NaT</td>\n",
       "      <td>31.0</td>\n",
       "      <td>1.0</td>\n",
       "      <td>1</td>\n",
       "      <td>17</td>\n",
       "      <td>0</td>\n",
       "      <td>0</td>\n",
       "      <td>1</td>\n",
       "      <td>2019-04-30</td>\n",
       "    </tr>\n",
       "    <tr>\n",
       "      <th>4</th>\n",
       "      <td>444ZZ88RM</td>\n",
       "      <td>Open</td>\n",
       "      <td>2018-10-19</td>\n",
       "      <td>NaT</td>\n",
       "      <td>62.0</td>\n",
       "      <td>2.0</td>\n",
       "      <td>0</td>\n",
       "      <td>9</td>\n",
       "      <td>1</td>\n",
       "      <td>0</td>\n",
       "      <td>0</td>\n",
       "      <td>2019-04-30</td>\n",
       "    </tr>\n",
       "  </tbody>\n",
       "</table>\n",
       "</div>"
      ],
      "text/plain": [
       "    Memberid Status   OpenDate CloseDate   Age  NumberofSavingsProducts  \\\n",
       "0  4444R4MGG   Open 2017-08-18       NaT  80.0                      1.0   \n",
       "1  444F4RR4K   Open 2017-11-17       NaT  31.0                      1.0   \n",
       "2  444G55TMG   Open 2016-12-08       NaT  20.0                      2.0   \n",
       "3  444RMTMGF   Open 2018-02-15       NaT  31.0                      1.0   \n",
       "4  444ZZ88RM   Open 2018-10-19       NaT  62.0                      2.0   \n",
       "\n",
       "   CountofLoans  TenureMonth  DBINDICATOR  CCINDICATOR  INDIRECT MostRecent  \n",
       "0             1           23            0            0         1 2019-04-30  \n",
       "1             1           20            0            0         0 2019-04-30  \n",
       "2             0           31            1            0         0 2017-07-31  \n",
       "3             1           17            0            0         1 2019-04-30  \n",
       "4             0            9            1            0         0 2019-04-30  "
      ]
     },
     "execution_count": 34,
     "metadata": {},
     "output_type": "execute_result"
    }
   ],
   "source": [
    "Profile6.head(5)"
   ]
  },
  {
   "cell_type": "code",
   "execution_count": 35,
   "metadata": {},
   "outputs": [],
   "source": [
    "#A function calculate time gap between 2 dates in month\n",
    "def months(d1, d2):\n",
    "    return d1.month - d2.month + 12*(d1.year - d2.year)\n",
    "\n",
    "#Calculate Recency Gap\n",
    "gap = []\n",
    "d1 = dt.datetime(2019, 4, 30) #the date before target label generation\n",
    "for i in range (len(Profile6)):\n",
    "    time_diff = months(d1, pd.to_datetime(Profile6.iloc[i, 11])) #gap between MostRecent and d1\n",
    "    gap.append(time_diff)\n",
    "    \n",
    "Profile6['RecencyGap'] = gap"
   ]
  },
  {
   "cell_type": "code",
   "execution_count": 38,
   "metadata": {},
   "outputs": [
    {
     "data": {
      "text/plain": [
       "Text(0.5, 1.0, 'Cumulative Distribution of Customer Status by Recency Gap')"
      ]
     },
     "execution_count": 38,
     "metadata": {},
     "output_type": "execute_result"
    },
    {
     "data": {
      "image/png": "[encoded data removed]",
      "text/plain": [
       "<Figure size 432x288 with 1 Axes>"
      ]
     },
     "metadata": {
      "needs_background": "light"
     },
     "output_type": "display_data"
    }
   ],
   "source": [
    "#Create cumulative frequency plots on recency gap\n",
    "churn = Profile6[Profile6['Status'] == 'Closed']\n",
    "ser1 = churn['RecencyGap'].squeeze()\n",
    "ser1 = ser1.sort_values()\n",
    "cum_dist1 = np.linspace(0.,1.,len(ser1))\n",
    "ser_cdf1 = pd.Series(cum_dist1, index=ser1)\n",
    "\n",
    "open = Profile6[Profile6['Status'] == 'Open']\n",
    "ser2 = open['RecencyGap'].squeeze()\n",
    "ser2= ser2.sort_values()\n",
    "cum_dist2 = np.linspace(0.,1.,len(ser2))\n",
    "ser_cdf2 = pd.Series(cum_dist2, index=ser2)\n",
    "\n",
    "ser_cdf1.plot(drawstyle='steps')\n",
    "ser_cdf2.plot(drawstyle='steps')\n",
    "plt.legend([\"Churn\", \"Active\"], loc=4)\n",
    "plt.title('Cumulative Distribution of Customer Status by Recency Gap')"
   ]
  },
  {
   "cell_type": "markdown",
   "metadata": {},
   "source": [
    "The above plot shows active customers have a much shorter recency gap than churn customers.  90% of active customers have recency gap shorter than 9 months whereas 90% of churn customers have recency gap shorter than 13 months."
   ]
  },
  {
   "cell_type": "markdown",
   "metadata": {},
   "source": [
    "## Frequency, Monetary Values (Direct Deposit Amount and Loan Payment Amount)\n",
    "\n",
    "Frequency is the number of all transactions within a year.  There are two features with monetary values in the transaction data: direct deposit amount and loan payment amount."
   ]
  },
  {
   "cell_type": "code",
   "execution_count": 40,
   "metadata": {},
   "outputs": [],
   "source": [
    "cutoff3 = dt.datetime(2018, 5, 1) #Beginning of the time frame\n",
    "#Extract 12 months transaction data during the time frame\n",
    "Tran6c = Tran6[(Tran6['Date'] < cutoff2) & (Tran6['Date'] >= cutoff3)] \n",
    "Tran6d = Tran6c[['Memberid', 'AllTran', 'SumofDirectDeposits', 'SumofPaymentAmount']]\n",
    "Tran6d = Tran6d.groupby(['Memberid']).mean()\n",
    "Tran6d = Tran6d.reset_index()\n",
    "Tran6d = Tran6d.rename({'AllTran':'Freq', 'SumofDirectDeposits':'DDAmt', 'SumofPaymentAmount':'LoanPayAmt'}, axis=1)\n",
    "Profile6 = pd.merge(Profile6, Tran6d, on=['Memberid'], how='left')"
   ]
  },
  {
   "cell_type": "code",
   "execution_count": 45,
   "metadata": {},
   "outputs": [
    {
     "data": {
      "text/plain": [
       "Text(0.5, 0, 'Average No of Transactions in a Month')"
      ]
     },
     "execution_count": 45,
     "metadata": {},
     "output_type": "execute_result"
    },
    {
     "data": {
      "image/png": "[encoded data removed]",
      "text/plain": [
       "<Figure size 432x288 with 1 Axes>"
      ]
     },
     "metadata": {
      "needs_background": "light"
     },
     "output_type": "display_data"
    }
   ],
   "source": [
    "#Create cumulative frequency plots on frequency\n",
    "churn = Profile6[Profile6['Status'] == 'Closed']\n",
    "ser1 = churn['Freq'].squeeze()\n",
    "ser1 = ser1.sort_values()\n",
    "cum_dist1 = np.linspace(0.,1.,len(ser1))\n",
    "ser_cdf1 = pd.Series(cum_dist1, index=ser1)\n",
    "\n",
    "open = Profile6[Profile6['Status'] == 'Open']\n",
    "ser2 = open['Freq'].squeeze()\n",
    "ser2= ser2.sort_values()\n",
    "cum_dist2 = np.linspace(0.,1.,len(ser2))\n",
    "ser_cdf2 = pd.Series(cum_dist2, index=ser2)\n",
    "\n",
    "ser_cdf1.plot(drawstyle='steps')\n",
    "ser_cdf2.plot(drawstyle='steps')\n",
    "plt.legend([\"Churn\", \"Active\"], loc=4)\n",
    "plt.title('Cumulative Distribution of Customer Status by No. of Monthly Transactions')\n",
    "plt.xlabel(\"Average No of Transactions in a Month\")\n"
   ]
  },
  {
   "cell_type": "markdown",
   "metadata": {},
   "source": [
    "The above plot shows a small group of active customers have over 200 transactions a month.  In the range of under 200 transactions, the proportion of churn customers is higher than active customers.  However, there are a large number of customers with almost no transaction in both categories.  Some of these dormant customers churn, many of them don't."
   ]
  },
  {
   "cell_type": "code",
   "execution_count": 46,
   "metadata": {},
   "outputs": [
    {
     "data": {
      "text/plain": [
       "Text(0.5, 0, 'Average Monthly Direct Deposit')"
      ]
     },
     "execution_count": 46,
     "metadata": {},
     "output_type": "execute_result"
    },
    {
     "data": {
      "image/png": "[encoded data removed]",
      "text/plain": [
       "<Figure size 432x288 with 1 Axes>"
      ]
     },
     "metadata": {
      "needs_background": "light"
     },
     "output_type": "display_data"
    }
   ],
   "source": [
    "#Create cumulative frequency plots on Sum of Direct Deposit\n",
    "ser1 = churn['DDAmt'].squeeze()\n",
    "ser1 = ser1.sort_values()\n",
    "cum_dist1 = np.linspace(0.,1.,len(ser1))\n",
    "ser_cdf1 = pd.Series(cum_dist1, index=ser1)\n",
    "\n",
    "ser2 = open['DDAmt'].squeeze()\n",
    "ser2= ser2.sort_values()\n",
    "cum_dist2 = np.linspace(0.,1.,len(ser2))\n",
    "ser_cdf2 = pd.Series(cum_dist2, index=ser2)\n",
    "\n",
    "ser_cdf1.plot(drawstyle='steps')\n",
    "ser_cdf2.plot(drawstyle='steps')\n",
    "plt.legend([\"Churn\", \"Active\"], loc=4)\n",
    "plt.title('Cumulative Distribution of Customer Status by Average Monthly Direct Deposit')\n",
    "plt.xlabel(\"Average Monthly Direct Deposit\")"
   ]
  },
  {
   "cell_type": "markdown",
   "metadata": {},
   "source": [
    "The above plot shows most customers do not have direct deposit transaction.  For those who do, active customers have a higher direct deposit amount than churn customers."
   ]
  },
  {
   "cell_type": "code",
   "execution_count": 47,
   "metadata": {},
   "outputs": [
    {
     "data": {
      "text/plain": [
       "Text(0.5, 0, 'Average Monthly Loan Payment')"
      ]
     },
     "execution_count": 47,
     "metadata": {},
     "output_type": "execute_result"
    },
    {
     "data": {
      "image/png": "[encoded data removed]",
      "text/plain": [
       "<Figure size 432x288 with 1 Axes>"
      ]
     },
     "metadata": {
      "needs_background": "light"
     },
     "output_type": "display_data"
    }
   ],
   "source": [
    "#Create cumulative frequency plots on Sum of Loan Payment\n",
    "Profile6['LoanPayAmt'] = Profile6['LoanPayAmt'] * -1 #convert all entries to positive numbers\n",
    "churn = Profile6[Profile6['Status'] == 'Closed']\n",
    "ser1 = churn['LoanPayAmt'].squeeze()\n",
    "ser1 = ser1.sort_values()\n",
    "cum_dist1 = np.linspace(0.,1.,len(ser1))\n",
    "ser_cdf1 = pd.Series(cum_dist1, index=ser1)\n",
    "\n",
    "open = Profile6[Profile6['Status'] == 'Open']\n",
    "ser2 = open['LoanPayAmt'].squeeze()\n",
    "ser2= ser2.sort_values()\n",
    "cum_dist2 = np.linspace(0.,1.,len(ser2))\n",
    "ser_cdf2 = pd.Series(cum_dist2, index=ser2)\n",
    "\n",
    "ser_cdf1.plot(drawstyle='steps')\n",
    "ser_cdf2.plot(drawstyle='steps')\n",
    "plt.legend([\"Churn\", \"Active\"], loc=4)\n",
    "plt.title('Cumulative Distribution of Customer Status by Average Monthly Loan Payment')\n",
    "plt.xlabel(\"Average Monthly Loan Payment\")"
   ]
  },
  {
   "cell_type": "markdown",
   "metadata": {},
   "source": [
    "Most customers have no loan payment.  For those who do, active customers have higher loan payment than churn customers."
   ]
  },
  {
   "cell_type": "markdown",
   "metadata": {},
   "source": [
    "## Customer Segmentation Using Kmeans Clustering"
   ]
  },
  {
   "cell_type": "markdown",
   "metadata": {},
   "source": [
    "### Standardize Features"
   ]
  },
  {
   "cell_type": "code",
   "execution_count": 3,
   "metadata": {},
   "outputs": [],
   "source": [
    "from sklearn.preprocessing import MinMaxScaler\n",
    "\n",
    "RFM = pd.DataFrame(Profile6, columns=['Memberid', 'RecencyGap', 'Freq', 'DDAmt', 'LoanPayAmt'])\n",
    "RFM = RFM.fillna(0) #fill all missing values with 0\n",
    "id = RFM[['Memberid']]\n",
    "RFM = RFM.set_index('Memberid')"
   ]
  },
  {
   "cell_type": "code",
   "execution_count": 4,
   "metadata": {},
   "outputs": [],
   "source": [
    "#Standized all values\n",
    "scaler = MinMaxScaler()\n",
    "RFM1 = scaler.fit_transform(RFM)\n",
    "RFM1 = pd.DataFrame(RFM1, columns = RFM.columns)\n",
    "RFM1 = pd.concat([id, RFM1], axis=1)\n",
    "RFM1 = RFM1.set_index('Memberid')"
   ]
  },
  {
   "cell_type": "markdown",
   "metadata": {},
   "source": [
    "### Kmeans Clustering"
   ]
  },
  {
   "cell_type": "code",
   "execution_count": 5,
   "metadata": {},
   "outputs": [],
   "source": [
    "from kneed import KneeLocator\n",
    "from sklearn.cluster import KMeans\n",
    "from sklearn.metrics import silhouette_score\n",
    "from sklearn.decomposition import PCA"
   ]
  },
  {
   "cell_type": "code",
   "execution_count": 6,
   "metadata": {},
   "outputs": [
    {
     "data": {
      "text/plain": [
       "Text(0.5, 1.0, 'Customer Segmentation: Sum of Square Error')"
      ]
     },
     "execution_count": 6,
     "metadata": {},
     "output_type": "execute_result"
    },
    {
     "data": {
      "image/png": "[encoded data removed]",
      "text/plain": [
       "<Figure size 432x288 with 1 Axes>"
      ]
     },
     "metadata": {},
     "output_type": "display_data"
    }
   ],
   "source": [
    "#elbow method to determine the number of clusters\n",
    "kmeans_kwargs = {\"init\": \"random\", \"n_init\": 10, \"max_iter\": 300, \"random_state\": 50}\n",
    "sse = []\n",
    "for k in range(1, 11):\n",
    "    kmeans = KMeans(n_clusters=k, **kmeans_kwargs)\n",
    "    kmeans.fit(RFM1)\n",
    "    sse.append(kmeans.inertia_)\n",
    "\n",
    "plt.style.use(\"fivethirtyeight\")\n",
    "plt.plot(range(1, 11), sse)\n",
    "plt.xticks(range(1, 11))\n",
    "plt.xlabel(\"Number of Clusters\")\n",
    "plt.ylabel(\"SSE\")\n",
    "plt.title('Customer Segmentation: Sum of Square Error')"
   ]
  },
  {
   "cell_type": "code",
   "execution_count": 7,
   "metadata": {},
   "outputs": [
    {
     "data": {
      "text/plain": [
       "4"
      ]
     },
     "execution_count": 7,
     "metadata": {},
     "output_type": "execute_result"
    }
   ],
   "source": [
    "#use kneed to find the best elbow position\n",
    "kl = KneeLocator(range(1, 11), sse, curve=\"convex\", direction=\"decreasing\")\n",
    "kl.elbow"
   ]
  },
  {
   "cell_type": "markdown",
   "metadata": {},
   "source": [
    "Using SSE as the criterion, the Knee Locator identifies 4 cluster is the best.  We can try to use Silhouette coefficient to find out the best number of clusters."
   ]
  },
  {
   "cell_type": "markdown",
   "metadata": {},
   "source": [
    "### Silhouette coefficient\n",
    "\n",
    "Silhouette coefficient values range between -1 and 1. Larger numbers indicate that samples are closer to their clusters than they are to other clusters."
   ]
  },
  {
   "cell_type": "code",
   "execution_count": 8,
   "metadata": {},
   "outputs": [
    {
     "data": {
      "text/plain": [
       "Text(0.5, 1.0, 'Customer Segmentation: Silhouette Coefficient')"
      ]
     },
     "execution_count": 8,
     "metadata": {},
     "output_type": "execute_result"
    },
    {
     "data": {
      "image/png": "[encoded data removed]",
      "text/plain": [
       "<Figure size 432x288 with 1 Axes>"
      ]
     },
     "metadata": {},
     "output_type": "display_data"
    }
   ],
   "source": [
    "silhouette_coefficients = []\n",
    "for k in range(2, 11):\n",
    "    kmeans = KMeans(n_clusters=k, **kmeans_kwargs)\n",
    "    kmeans.fit(RFM1)\n",
    "    score = silhouette_score(RFM1, kmeans.labels_)\n",
    "    silhouette_coefficients.append(score)\n",
    "\n",
    "plt.style.use(\"fivethirtyeight\")\n",
    "plt.plot(range(2, 11), silhouette_coefficients)\n",
    "plt.xticks(range(2, 11))\n",
    "plt.xlabel(\"Number of Clusters\")\n",
    "plt.ylabel(\"Silhouette Coefficient\")\n",
    "plt.title('Customer Segmentation: Silhouette Coefficient')"
   ]
  },
  {
   "cell_type": "markdown",
   "metadata": {},
   "source": [
    "According to the plot above, 2 clusters give the highest Shihouette Coefficient. The purpose of customer segmentation is to identify a group of loyal customers.  More clusters are preferred as a starting point.  Different clusters can be combined later if needed.  Therefore, the 5 clusters will be used as it has the next highest Silhouette Coefficient."
   ]
  },
  {
   "cell_type": "code",
   "execution_count": 6,
   "metadata": {},
   "outputs": [],
   "source": [
    "#kmeans clustering with 5 clusters\n",
    "kmeans = KMeans(init=\"random\", n_clusters=5, n_init=10, max_iter=300, random_state=42)\n",
    "Profile6['Clusters'] = kmeans.fit_predict(RFM1)\n",
    "Cluster_Freq = pd.DataFrame(Profile6['Clusters'].value_counts().reset_index())\n",
    "Cluster_Freq = Cluster_Freq.sort_values(by=['index'], ascending=True)\n",
    "Cluster_Freq['Prop'] = Cluster_Freq['Clusters']/Cluster_Freq['Clusters'].sum()"
   ]
  },
  {
   "cell_type": "code",
   "execution_count": 12,
   "metadata": {},
   "outputs": [
    {
     "data": {
      "text/html": [
       "<div>\n",
       "<style scoped>\n",
       "    .dataframe tbody tr th:only-of-type {\n",
       "        vertical-align: middle;\n",
       "    }\n",
       "\n",
       "    .dataframe tbody tr th {\n",
       "        vertical-align: top;\n",
       "    }\n",
       "\n",
       "    .dataframe thead th {\n",
       "        text-align: right;\n",
       "    }\n",
       "</style>\n",
       "<table border=\"1\" class=\"dataframe\">\n",
       "  <thead>\n",
       "    <tr style=\"text-align: right;\">\n",
       "      <th></th>\n",
       "      <th>index</th>\n",
       "      <th>Clusters</th>\n",
       "      <th>Prop</th>\n",
       "    </tr>\n",
       "  </thead>\n",
       "  <tbody>\n",
       "    <tr>\n",
       "      <th>1</th>\n",
       "      <td>0</td>\n",
       "      <td>4150</td>\n",
       "      <td>0.144258</td>\n",
       "    </tr>\n",
       "    <tr>\n",
       "      <th>2</th>\n",
       "      <td>1</td>\n",
       "      <td>2197</td>\n",
       "      <td>0.076370</td>\n",
       "    </tr>\n",
       "    <tr>\n",
       "      <th>3</th>\n",
       "      <td>2</td>\n",
       "      <td>1502</td>\n",
       "      <td>0.052211</td>\n",
       "    </tr>\n",
       "    <tr>\n",
       "      <th>4</th>\n",
       "      <td>3</td>\n",
       "      <td>853</td>\n",
       "      <td>0.029651</td>\n",
       "    </tr>\n",
       "    <tr>\n",
       "      <th>0</th>\n",
       "      <td>4</td>\n",
       "      <td>20066</td>\n",
       "      <td>0.697511</td>\n",
       "    </tr>\n",
       "  </tbody>\n",
       "</table>\n",
       "</div>"
      ],
      "text/plain": [
       "   index  Clusters      Prop\n",
       "1      0      4150  0.144258\n",
       "2      1      2197  0.076370\n",
       "3      2      1502  0.052211\n",
       "4      3       853  0.029651\n",
       "0      4     20066  0.697511"
      ]
     },
     "execution_count": 12,
     "metadata": {},
     "output_type": "execute_result"
    }
   ],
   "source": [
    "Cluster_Freq"
   ]
  },
  {
   "cell_type": "code",
   "execution_count": 13,
   "metadata": {},
   "outputs": [
    {
     "data": {
      "text/plain": [
       "Text(0, 0.5, 'No. of Customers')"
      ]
     },
     "execution_count": 13,
     "metadata": {},
     "output_type": "execute_result"
    },
    {
     "data": {
      "image/png": "[encoded data removed]",
      "text/plain": [
       "<Figure size 432x288 with 1 Axes>"
      ]
     },
     "metadata": {},
     "output_type": "display_data"
    }
   ],
   "source": [
    "#Bar chart shows number of customers in each cluster\n",
    "plt.bar(Cluster_Freq['index'], Cluster_Freq['Clusters'])\n",
    "plt.title('No. of Customers in Each Cluster')\n",
    "plt.xlabel('Cluster')\n",
    "plt.ylabel('No. of Customers')"
   ]
  },
  {
   "cell_type": "code",
   "execution_count": 14,
   "metadata": {},
   "outputs": [
    {
     "data": {
      "text/plain": [
       "Text(0.5, 1.0, 'Proportion of Customers in Each Cluster')"
      ]
     },
     "execution_count": 14,
     "metadata": {},
     "output_type": "execute_result"
    },
    {
     "data": {
      "image/png": "[encoded data removed]",
      "text/plain": [
       "<Figure size 432x288 with 1 Axes>"
      ]
     },
     "metadata": {},
     "output_type": "display_data"
    }
   ],
   "source": [
    "# Pie chart, where the slices will be ordered and plotted counter-clockwise:\n",
    "#https://matplotlib.org/stable/gallery/pie_and_polar_charts/pie_features.html\n",
    "labels = Cluster_Freq['index']\n",
    "sizes = Cluster_Freq['Prop']\n",
    "fig1, ax1 = plt.subplots()\n",
    "ax1.pie(sizes, labels=labels, autopct='%1.0f%%',\n",
    "        shadow=False, startangle=90)\n",
    "ax1.axis('equal')  # Equal aspect ratio ensures that pie is drawn as a circle.\n",
    "plt.title('Proportion of Customers in Each Cluster')"
   ]
  },
  {
   "cell_type": "markdown",
   "metadata": {},
   "source": [
    "There are 5 clusters: 70% of customers are in Cluster 1, Cluster 3 has only 3% of customers."
   ]
  },
  {
   "cell_type": "code",
   "execution_count": 15,
   "metadata": {},
   "outputs": [
    {
     "data": {
      "text/plain": [
       "Text(0.5, 1.0, 'K-means Clustering with 2 dimensions')"
      ]
     },
     "execution_count": 15,
     "metadata": {},
     "output_type": "execute_result"
    },
    {
     "data": {
      "image/png": "[encoded data removed]",
      "text/plain": [
       "<Figure size 432x288 with 1 Axes>"
      ]
     },
     "metadata": {},
     "output_type": "display_data"
    }
   ],
   "source": [
    "### Run PCA on the data and reduce the no. of dimensions from 4 to 2 in order to show cluster distribution graphically.\n",
    "reduced_data = PCA(n_components=2).fit_transform(RFM1)\n",
    "results = pd.DataFrame(reduced_data,columns=['pca1','pca2'])\n",
    "\n",
    "sns.scatterplot(x=\"pca1\", y=\"pca2\", hue=Profile6['Clusters'], data=results)\n",
    "plt.title('K-means Clustering with 2 dimensions')"
   ]
  },
  {
   "cell_type": "markdown",
   "metadata": {},
   "source": [
    "Cluster 4 is at the lower left corner.  Custers 1, 2 and 3 extend to the right, whereas Cluster 0 extends upwards.  Next, we will explore the characteristics of each cluster."
   ]
  },
  {
   "cell_type": "code",
   "execution_count": 8,
   "metadata": {},
   "outputs": [],
   "source": [
    "#Calculate the RFM mean of each cluster\n",
    "R = pd.DataFrame(Profile6.groupby(\"Clusters\")['RecencyGap'].mean().reset_index())\n",
    "F = pd.DataFrame(Profile6.groupby(\"Clusters\")['Freq'].mean().reset_index())\n",
    "D = pd.DataFrame(Profile6.groupby(\"Clusters\")['DDAmt'].mean().reset_index())\n",
    "L = pd.DataFrame(Profile6.groupby(\"Clusters\")['LoanPayAmt'].mean().reset_index())"
   ]
  },
  {
   "cell_type": "code",
   "execution_count": 17,
   "metadata": {},
   "outputs": [
    {
     "data": {
      "text/plain": [
       "Text(0, 0.5, 'Recency Gap')"
      ]
     },
     "execution_count": 17,
     "metadata": {},
     "output_type": "execute_result"
    },
    {
     "data": {
      "image/png": "[encoded data removed]",
      "text/plain": [
       "<Figure size 432x288 with 1 Axes>"
      ]
     },
     "metadata": {},
     "output_type": "display_data"
    }
   ],
   "source": [
    "#Bar chart showing the recency gap of each cluster\n",
    "plt.bar(R['Clusters'], R['RecencyGap'])\n",
    "plt.title('Recency Gap of Each Cluster')\n",
    "plt.xlabel('Clusters')\n",
    "plt.ylabel('Recency Gap')"
   ]
  },
  {
   "cell_type": "markdown",
   "metadata": {},
   "source": [
    "Clusters 0 and 4 are active customers with almost 0 recency gap, that means they have transactions every month.  The recency gap of customers in Clusters 2 and 3 is high, they are probably dormant customers."
   ]
  },
  {
   "cell_type": "code",
   "execution_count": 10,
   "metadata": {},
   "outputs": [
    {
     "data": {
      "text/plain": [
       "Text(0.5, 1.0, 'Proportion of Monthly Transactions by Clusters')"
      ]
     },
     "execution_count": 10,
     "metadata": {},
     "output_type": "execute_result"
    },
    {
     "data": {
      "image/png": "[encoded data removed]",
      "text/plain": [
       "<Figure size 432x288 with 1 Axes>"
      ]
     },
     "metadata": {},
     "output_type": "display_data"
    }
   ],
   "source": [
    "#Frequency Pie Chart\n",
    "Cluster_Freq = Cluster_Freq.rename({'Clusters':'Count'}, axis=1)\n",
    "Cluster_Freq = Cluster_Freq.rename({'index':'Clusters'}, axis=1)\n",
    "F = pd.merge(F, Cluster_Freq, on=['Clusters'])\n",
    "F['ClusterSum'] = F['Count']*F['Freq']\n",
    "labels = F['Clusters']\n",
    "sizes = F['ClusterSum']\n",
    "fig1, ax1 = plt.subplots()\n",
    "ax1.pie(sizes, labels=labels, autopct='%1.0f%%',\n",
    "        shadow=False, startangle=90)\n",
    "ax1.axis('equal')  # Equal aspect ratio ensures that pie is drawn as a circle.\n",
    "plt.title('Proportion of Monthly Transactions by Clusters')\n"
   ]
  },
  {
   "cell_type": "markdown",
   "metadata": {},
   "source": [
    "Cluster 0 has only 14% customers, it contributes 67% of all monthly transactions.  Cluster 4 has 70% customers and it only contributes 31% of transactions.  The number of monthly transactions among Clusters 1, 2 and 3 is very low."
   ]
  },
  {
   "cell_type": "code",
   "execution_count": 11,
   "metadata": {},
   "outputs": [
    {
     "data": {
      "text/plain": [
       "Text(0.5, 1.0, 'Proportion of Monthly Direct Deposit Amount by Clusters')"
      ]
     },
     "execution_count": 11,
     "metadata": {},
     "output_type": "execute_result"
    },
    {
     "data": {
      "image/png": "[encoded data removed]",
      "text/plain": [
       "<Figure size 432x288 with 1 Axes>"
      ]
     },
     "metadata": {},
     "output_type": "display_data"
    }
   ],
   "source": [
    "#Direct Deposit Pie Chart\n",
    "D = pd.merge(D, Cluster_Freq, on=['Clusters'])\n",
    "D['ClusterSum'] = D['Count']*D['DDAmt']\n",
    "labels = D['Clusters']\n",
    "sizes = D['ClusterSum']\n",
    "fig1, ax1 = plt.subplots()\n",
    "ax1.pie(sizes, labels=labels, autopct='%1.0f%%',\n",
    "        shadow=False, startangle=90, textprops={'fontsize': 10})\n",
    "ax1.axis('equal')  # Equal aspect ratio ensures that pie is drawn as a circle.\n",
    "plt.title('Proportion of Monthly Direct Deposit Amount by Clusters')"
   ]
  },
  {
   "cell_type": "markdown",
   "metadata": {},
   "source": [
    "Cluster 0 has the highest the amount of direct deposit (67%), Cluster 4 comes second with 32%.  The sum of the other 3 clusters is only 1%."
   ]
  },
  {
   "cell_type": "code",
   "execution_count": 12,
   "metadata": {},
   "outputs": [
    {
     "data": {
      "text/plain": [
       "Text(0.5, 1.0, 'Proportion of Monthly Loan Payment Amount by Clusters')"
      ]
     },
     "execution_count": 12,
     "metadata": {},
     "output_type": "execute_result"
    },
    {
     "data": {
      "image/png": "[encoded data removed]",
      "text/plain": [
       "<Figure size 432x288 with 1 Axes>"
      ]
     },
     "metadata": {},
     "output_type": "display_data"
    }
   ],
   "source": [
    "#Loan Payment Pie Chart\n",
    "L = pd.merge(L, Cluster_Freq, on=['Clusters'])\n",
    "L['ClusterSum'] = L['Count']*L['LoanPayAmt']\n",
    "labels = L['Clusters']\n",
    "sizes = L['ClusterSum']\n",
    "fig1, ax1 = plt.subplots()\n",
    "ax1.pie(sizes, labels=labels, autopct='%1.0f%%',\n",
    "        shadow=False, startangle=90, textprops={'fontsize': 12})\n",
    "ax1.axis('equal')  # Equal aspect ratio ensures that pie is drawn as a circle.\n",
    "plt.title('Proportion of Monthly Loan Payment Amount by Clusters')"
   ]
  },
  {
   "cell_type": "markdown",
   "metadata": {},
   "source": [
    "90% of loan payment comes from Cluster 4.  The sum of other clusters is only 10%.  \n",
    "\n",
    "Customer segmentation through kmeans clutering is able identify the characteristics of different groups of customers.  With this information in hand, companies can target their strategies towards each segment accordingly.  In this example, Clusters 0 and 4 are loyal cuatomers.  They account for 84% of all customers and their combined business volumne is over 90% in terms of monthly transactions, direct deposit amount, as well as loan payment.  Customer retention should be focused on these 2 clusters. Any churner is a loss to the company.\n",
    "\n",
    "On the other hand, the other 3 clusters are dormant.  They have limited contribution to the bank.  The bank should incentivize them to be more engaging.  "
   ]
  }
 ],
 "metadata": {
  "kernelspec": {
   "display_name": "Python 3",
   "language": "python",
   "name": "python3"
  },
  "language_info": {
   "codemirror_mode": {
    "name": "ipython",
    "version": 3
   },
   "file_extension": ".py",
   "mimetype": "text/x-python",
   "name": "python",
   "nbconvert_exporter": "python",
   "pygments_lexer": "ipython3",
   "version": "3.7.7"
  }
 },
 "nbformat": 4,
 "nbformat_minor": 4
}
