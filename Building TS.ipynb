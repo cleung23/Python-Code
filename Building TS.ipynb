{
 "cells": [
  {
   "cell_type": "markdown",
   "id": "3c4697ab-23d3-42b9-a9be-7708bb236d4b",
   "metadata": {},
   "source": [
    "# Data Cleaning & Feature Engineering\n",
    "## Converting customer records to time series dataset\n",
    "\n",
    "Customer record data records stagnant customer variables like age, open date, closed date etc.  The following notebook shows how these variables can be converted to dynamic time series features for machine learning and deep learning."
   ]
  },
  {
   "cell_type": "code",
   "execution_count": 2,
   "id": "2eac11d5-4a1f-45f3-a7c9-e0dbe5ff4166",
   "metadata": {},
   "outputs": [],
   "source": [
    "import numpy as np\n",
    "import pandas as pd\n",
    "from pandas import read_csv\n",
    "import datetime as dt\n",
    "from pandas.core.common import flatten"
   ]
  },
  {
   "cell_type": "code",
   "execution_count": null,
   "id": "91964ea6-e691-4d76-a7fd-71708b39a574",
   "metadata": {},
   "outputs": [],
   "source": [
    "# Calculate customers' tenure in months\n",
    "# A function calculating the time gap between 2 dates in terms of months.\n",
    "def months(d1, d2):\n",
    "    return d1.month - d2.month + 12*(d1.year - d2.year)\n",
    "\n",
    "# Calculate tenure month in Open and Closed accounts.\n",
    "diff = []\n",
    "d2 = dt.datetime(2019, 7, 31) #last day of the transaction data\n",
    "for i in range (len(S1)):\n",
    "    if S1.iloc[i, 1] == 'Open':\n",
    "        time_diff = months(d2, pd.to_datetime(S1.iloc[i, 2]))\n",
    "\n",
    "    else:\n",
    "        time_diff = months(pd.to_datetime(S1.iloc[i, 3]), pd.to_datetime(S1.iloc[i, 2]))\n",
    "    diff.append(time_diff)\n",
    "S1['TenureMonth'] = diff\n"
   ]
  },
  {
   "cell_type": "code",
   "execution_count": null,
   "id": "6438903c-6943-4583-8494-5bb1992eb17c",
   "metadata": {},
   "outputs": [],
   "source": [
    "# Building time slots from open date to close date (closed accounts) or July 19 (open accounts).\n",
    "# Each customer's monthly transaction is recorded in 1 row.  The number of rows for each customer\n",
    "# equals tenure month.\n",
    "\n",
    "def last_day_of_month(date):\n",
    "    if date.month == 12:\n",
    "        return date.replace(day=31)\n",
    "    return date.replace(month=date.month+1, day=1) - dt.timedelta(days=1)\n",
    "\n",
    "timeslot = []\n",
    "for i in range (len(S2)):\n",
    "    start = last_day_of_month(pd.to_datetime(S2.iloc[i, 2])) #open date\n",
    "    end = pd.to_datetime('2019-07-01')\n",
    "    if S2.iloc[i, 1] == 'Open':\n",
    "        b = pd.date_range(start, end,\n",
    "                          freq='MS').strftime(\"%m/%y\").tolist()\n",
    "    else:\n",
    "        b = pd.date_range(start, pd.to_datetime(S2.iloc[i, 3]),\n",
    "                          freq='MS').strftime(\"%m/%y\").tolist() #close date\n",
    "    timeslot.append(b)\n",
    "timeslot = list(flatten(timeslot))\n"
   ]
  },
  {
   "cell_type": "code",
   "execution_count": null,
   "id": "a6c39fef-193a-4d7c-8cb7-1e3b493302a2",
   "metadata": {},
   "outputs": [],
   "source": [
    "# Filling in each customer's time slots.\n",
    "#Repeating Memberid, NoofSavingsProducts, CountofLoans (these features do not change over time)\n",
    "def fill_series(df, col_idx, tenure_month_col):\n",
    "    series = []\n",
    "    for i in range(len(df)):\n",
    "        n_steps = df.iloc[i, tenure_month_col]\n",
    "        s = np.repeat(df.iloc[i, col_idx], n_steps)\n",
    "        series.append(s)\n",
    "    return list(flatten(series))\n",
    "\n",
    "id_list = fill_series(S2, 0, 8)\n",
    "savings_list = fill_series(S2, 6, 8)\n",
    "loan_list = fill_series(S2, 7, 8)"
   ]
  },
  {
   "cell_type": "code",
   "execution_count": null,
   "id": "e4761add-ab71-4f48-99c6-ccf7978c9e26",
   "metadata": {},
   "outputs": [],
   "source": [
    "# Creating customer status (0-open, 1-prechurn, 2-churn), reflecting change over time.\n",
    "status = []\n",
    "for i in range (len(S2)):\n",
    "    n_steps = S2.iloc[i, 8]\n",
    "    if S2.iloc[i, 1] == 'Open':\n",
    "        s = np.repeat('0', n_steps)\n",
    "    else:\n",
    "        a = np.repeat('0', n_steps-2)\n",
    "        b = np.array([1, 2])\n",
    "        s = np.concatenate((a, b))\n",
    "    status.append(s)\n",
    "status = list(flatten(status))"
   ]
  },
  {
   "cell_type": "code",
   "execution_count": null,
   "id": "d5e46b5d-652e-4761-8aba-b9e5d43907fe",
   "metadata": {},
   "outputs": [],
   "source": [
    "#Filling in age, add 1 to age after 12 months\n",
    "age = []\n",
    "for i in range (len(S2)):\n",
    "    n_steps = S2.iloc[i, 8]\n",
    "    if n_steps <= 12:\n",
    "        s = np.repeat(S2.iloc[i, 4], n_steps)\n",
    "    elif n_steps > 24:\n",
    "        a = np.repeat(S2.iloc[i, 4], 12)\n",
    "        b = np.repeat(S2.iloc[i, 4]+1, 12)\n",
    "        c = np.repeat(S2.iloc[i, 4]+2, n_steps-24)\n",
    "        s = np.concatenate((a, b, c))\n",
    "    else:\n",
    "        a = np.repeat(S2.iloc[i, 4], 12)\n",
    "        b = np.repeat(S2.iloc[i, 4] + 1, n_steps-12)\n",
    "        s = np.concatenate((a, b))\n",
    "    age.append(s)\n",
    "age = list(flatten(age))\n"
   ]
  },
  {
   "cell_type": "code",
   "execution_count": null,
   "id": "7e5eb399-fe88-4340-b7d4-a9e5be794311",
   "metadata": {},
   "outputs": [],
   "source": [
    "#Filling in tenure month\n",
    "tenure = []\n",
    "for i in range (len(S2)):\n",
    "    n_steps = S2.iloc[i, 8]\n",
    "    s = list(range(1, n_steps + 1))\n",
    "    tenure.append(s)\n",
    "tenure = list(flatten(tenure))"
   ]
  },
  {
   "cell_type": "code",
   "execution_count": null,
   "id": "6e5adafa-22fe-4b2f-8e1e-17784ce417e4",
   "metadata": {},
   "outputs": [],
   "source": [
    "#Combining all features to form a time series dataset\n",
    "S3 = pd.DataFrame(np.column_stack([id_list, timeslot, status, age, tenure, savings_list, loan_list]),\n",
    "                  columns=['Memberid', 'Date', 'Status', 'Age', 'TenureMonth', 'NoOfSavingsP', 'NoOfLoans'])"
   ]
  }
 ],
 "metadata": {
  "kernelspec": {
   "display_name": "Python 3",
   "language": "python",
   "name": "python3"
  },
  "language_info": {
   "codemirror_mode": {
    "name": "ipython",
    "version": 3
   },
   "file_extension": ".py",
   "mimetype": "text/x-python",
   "name": "python",
   "nbconvert_exporter": "python",
   "pygments_lexer": "ipython3",
   "version": "3.7.7"
  }
 },
 "nbformat": 4,
 "nbformat_minor": 5
}
